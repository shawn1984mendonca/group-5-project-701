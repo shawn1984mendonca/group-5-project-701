{
 "cells": [
  {
   "cell_type": "code",
   "execution_count": 13,
   "id": "e5c0f95f",
   "metadata": {},
   "outputs": [
    {
     "name": "stdout",
     "output_type": "stream",
     "text": [
      "Status Code: 200\n"
     ]
    }
   ],
   "source": [
    "import requests\n",
    "from bs4 import BeautifulSoup\n",
    "import pandas as pd\n",
    "\n",
    "# Spoof browser headers\n",
    "headers = {\n",
    "    \"User-Agent\": \"Mozilla/5.0 (Windows NT 10.0; Win64; x64) AppleWebKit/537.36 (KHTML, like Gecko) Chrome/120.0 Safari/537.36\"\n",
    "}\n",
    "\n",
    "url = \"https://cwur.org/2024.php\"\n",
    "response = requests.get(url, headers=headers)\n",
    "\n",
    "# Check status code again\n",
    "print(\"Status Code:\", response.status_code)\n"
   ]
  },
  {
   "cell_type": "code",
   "execution_count": 14,
   "id": "cd9ce265",
   "metadata": {},
   "outputs": [
    {
     "name": "stdout",
     "output_type": "stream",
     "text": [
      "<!DOCTYPE html>\n",
      "<html lang=\"en\">\n",
      " <head>\n",
      "  <meta charset=\"utf-8\"/>\n",
      "  <meta content=\"IE=edge\" http-equiv=\"X-UA-Compatible\"/>\n",
      "  <meta content=\"width=device-width, initial-scale=1\" name=\"viewport\"/>\n",
      "  <!-- The above 3 meta tags *must* come first in the head; any other head content must come *after* these tags -->\n",
      "  <meta content=\"Discover the world's top universities and best colleges for 2024. Explore the Global 2000 list by the Center for World University Rankings (CWUR).\" name=\"description\"/>\n",
      "  <meta content=\"ranking, rankings, university, universities, college, colleges, 2025, 2023, world, top, best, global, Ranking universitario mundial, Classement mondial des universités , Weltweites Universitätsranking, Zentrum für weltweite Universitätsrankings , דירוג האוניברסיטאות העולמי, המרכז לדירוג האוניברסיטאות העולמי, 세계 대학순위, が世界の大学トップ, 世界大學排名中心, 세계대학랭킹센터,世界大学ランキングセンター, Ranking mundial universitário, Рейтинг университетов мира , разработки рейтинга университетов мира, مركز ,تصنيف الجامعات \n"
     ]
    }
   ],
   "source": [
    "from bs4 import BeautifulSoup\n",
    "\n",
    "# Parse the HTML content\n",
    "soup = BeautifulSoup(response.text, 'html.parser')\n",
    "\n",
    "# Preview the HTML structure (optional)\n",
    "print(soup.prettify()[:1000])  # Shows first 1000 characters\n"
   ]
  },
  {
   "cell_type": "code",
   "execution_count": 15,
   "id": "ed76ab3c",
   "metadata": {},
   "outputs": [
    {
     "name": "stdout",
     "output_type": "stream",
     "text": [
      "['World Rank', 'Institution', 'Location', 'National Rank', 'Education Rank', 'Employability Rank', 'Faculty Rank', 'Research Rank', 'Score']\n"
     ]
    }
   ],
   "source": [
    "# Find the first table in the page (which contains the university rankings)\n",
    "table = soup.find('table')\n",
    "\n",
    "# Extract column headers from the <th> elements\n",
    "headers = [th.text.strip() for th in table.find_all('th')]\n",
    "\n",
    "# Show the headers\n",
    "print(headers)\n"
   ]
  },
  {
   "cell_type": "code",
   "execution_count": 16,
   "id": "2f6c07d6",
   "metadata": {},
   "outputs": [
    {
     "name": "stdout",
     "output_type": "stream",
     "text": [
      "['1Top\\xa00.1%', 'Harvard University', 'USA', '1', '1', '1', '1', '1', '100']\n",
      "['2Top\\xa00.1%', 'Massachusetts Institute of Technology', 'USA', '2', '4', '12', '2', '12', '96.8']\n",
      "['3Top\\xa00.1%', 'Stanford University', 'USA', '3', '10', '4', '3', '2', '95.2']\n"
     ]
    }
   ],
   "source": [
    "# Initialize list to store each row of data\n",
    "rows = []\n",
    "\n",
    "# Loop through all <tr> tags, skipping the first one (which is the header)\n",
    "for tr in table.find_all('tr')[1:]:\n",
    "    cols = tr.find_all('td')\n",
    "    row = [td.text.strip() for td in cols]\n",
    "    if row:  # Only add non-empty rows\n",
    "        rows.append(row)\n",
    "\n",
    "# Preview the first 3 rows\n",
    "for r in rows[:3]:\n",
    "    print(r)\n"
   ]
  },
  {
   "cell_type": "code",
   "execution_count": 17,
   "id": "d0979d3b",
   "metadata": {},
   "outputs": [
    {
     "data": {
      "text/html": [
       "<div>\n",
       "<style scoped>\n",
       "    .dataframe tbody tr th:only-of-type {\n",
       "        vertical-align: middle;\n",
       "    }\n",
       "\n",
       "    .dataframe tbody tr th {\n",
       "        vertical-align: top;\n",
       "    }\n",
       "\n",
       "    .dataframe thead th {\n",
       "        text-align: right;\n",
       "    }\n",
       "</style>\n",
       "<table border=\"1\" class=\"dataframe\">\n",
       "  <thead>\n",
       "    <tr style=\"text-align: right;\">\n",
       "      <th></th>\n",
       "      <th>World Rank</th>\n",
       "      <th>Institution</th>\n",
       "      <th>Location</th>\n",
       "      <th>National Rank</th>\n",
       "      <th>Education Rank</th>\n",
       "      <th>Employability Rank</th>\n",
       "      <th>Faculty Rank</th>\n",
       "      <th>Research Rank</th>\n",
       "      <th>Score</th>\n",
       "    </tr>\n",
       "  </thead>\n",
       "  <tbody>\n",
       "    <tr>\n",
       "      <th>0</th>\n",
       "      <td>1Top 0.1%</td>\n",
       "      <td>Harvard University</td>\n",
       "      <td>USA</td>\n",
       "      <td>1</td>\n",
       "      <td>1</td>\n",
       "      <td>1</td>\n",
       "      <td>1</td>\n",
       "      <td>1</td>\n",
       "      <td>100</td>\n",
       "    </tr>\n",
       "    <tr>\n",
       "      <th>1</th>\n",
       "      <td>2Top 0.1%</td>\n",
       "      <td>Massachusetts Institute of Technology</td>\n",
       "      <td>USA</td>\n",
       "      <td>2</td>\n",
       "      <td>4</td>\n",
       "      <td>12</td>\n",
       "      <td>2</td>\n",
       "      <td>12</td>\n",
       "      <td>96.8</td>\n",
       "    </tr>\n",
       "    <tr>\n",
       "      <th>2</th>\n",
       "      <td>3Top 0.1%</td>\n",
       "      <td>Stanford University</td>\n",
       "      <td>USA</td>\n",
       "      <td>3</td>\n",
       "      <td>10</td>\n",
       "      <td>4</td>\n",
       "      <td>3</td>\n",
       "      <td>2</td>\n",
       "      <td>95.2</td>\n",
       "    </tr>\n",
       "    <tr>\n",
       "      <th>3</th>\n",
       "      <td>4Top 0.1%</td>\n",
       "      <td>University of Cambridge</td>\n",
       "      <td>United Kingdom</td>\n",
       "      <td>1</td>\n",
       "      <td>3</td>\n",
       "      <td>26</td>\n",
       "      <td>4</td>\n",
       "      <td>14</td>\n",
       "      <td>94.1</td>\n",
       "    </tr>\n",
       "    <tr>\n",
       "      <th>4</th>\n",
       "      <td>5Top 0.1%</td>\n",
       "      <td>University of Oxford</td>\n",
       "      <td>United Kingdom</td>\n",
       "      <td>2</td>\n",
       "      <td>7</td>\n",
       "      <td>28</td>\n",
       "      <td>9</td>\n",
       "      <td>6</td>\n",
       "      <td>93.3</td>\n",
       "    </tr>\n",
       "  </tbody>\n",
       "</table>\n",
       "</div>"
      ],
      "text/plain": [
       "  World Rank                            Institution        Location  \\\n",
       "0  1Top 0.1%                     Harvard University             USA   \n",
       "1  2Top 0.1%  Massachusetts Institute of Technology             USA   \n",
       "2  3Top 0.1%                    Stanford University             USA   \n",
       "3  4Top 0.1%                University of Cambridge  United Kingdom   \n",
       "4  5Top 0.1%                   University of Oxford  United Kingdom   \n",
       "\n",
       "  National Rank Education Rank Employability Rank Faculty Rank Research Rank  \\\n",
       "0             1              1                  1            1             1   \n",
       "1             2              4                 12            2            12   \n",
       "2             3             10                  4            3             2   \n",
       "3             1              3                 26            4            14   \n",
       "4             2              7                 28            9             6   \n",
       "\n",
       "  Score  \n",
       "0   100  \n",
       "1  96.8  \n",
       "2  95.2  \n",
       "3  94.1  \n",
       "4  93.3  "
      ]
     },
     "execution_count": 17,
     "metadata": {},
     "output_type": "execute_result"
    }
   ],
   "source": [
    "import pandas as pd\n",
    "\n",
    "# Convert rows into a DataFrame using the headers\n",
    "df = pd.DataFrame(rows, columns=headers)\n",
    "\n",
    "# Show the first few rows\n",
    "df.head()\n"
   ]
  },
  {
   "cell_type": "code",
   "execution_count": 18,
   "id": "03900409",
   "metadata": {},
   "outputs": [
    {
     "name": "stdout",
     "output_type": "stream",
     "text": [
      "World Rank            float64\n",
      "Institution            object\n",
      "Location               object\n",
      "National Rank           int64\n",
      "Education Rank        float64\n",
      "Employability Rank    float64\n",
      "Faculty Rank          float64\n",
      "Research Rank         float64\n",
      "Score                 float64\n",
      "dtype: object\n"
     ]
    },
    {
     "data": {
      "text/html": [
       "<div>\n",
       "<style scoped>\n",
       "    .dataframe tbody tr th:only-of-type {\n",
       "        vertical-align: middle;\n",
       "    }\n",
       "\n",
       "    .dataframe tbody tr th {\n",
       "        vertical-align: top;\n",
       "    }\n",
       "\n",
       "    .dataframe thead th {\n",
       "        text-align: right;\n",
       "    }\n",
       "</style>\n",
       "<table border=\"1\" class=\"dataframe\">\n",
       "  <thead>\n",
       "    <tr style=\"text-align: right;\">\n",
       "      <th></th>\n",
       "      <th>World Rank</th>\n",
       "      <th>Institution</th>\n",
       "      <th>Location</th>\n",
       "      <th>National Rank</th>\n",
       "      <th>Education Rank</th>\n",
       "      <th>Employability Rank</th>\n",
       "      <th>Faculty Rank</th>\n",
       "      <th>Research Rank</th>\n",
       "      <th>Score</th>\n",
       "    </tr>\n",
       "  </thead>\n",
       "  <tbody>\n",
       "    <tr>\n",
       "      <th>0</th>\n",
       "      <td>NaN</td>\n",
       "      <td>Harvard University</td>\n",
       "      <td>USA</td>\n",
       "      <td>1</td>\n",
       "      <td>1.0</td>\n",
       "      <td>1.0</td>\n",
       "      <td>1.0</td>\n",
       "      <td>1.0</td>\n",
       "      <td>100.0</td>\n",
       "    </tr>\n",
       "    <tr>\n",
       "      <th>1</th>\n",
       "      <td>NaN</td>\n",
       "      <td>Massachusetts Institute of Technology</td>\n",
       "      <td>USA</td>\n",
       "      <td>2</td>\n",
       "      <td>4.0</td>\n",
       "      <td>12.0</td>\n",
       "      <td>2.0</td>\n",
       "      <td>12.0</td>\n",
       "      <td>96.8</td>\n",
       "    </tr>\n",
       "    <tr>\n",
       "      <th>2</th>\n",
       "      <td>NaN</td>\n",
       "      <td>Stanford University</td>\n",
       "      <td>USA</td>\n",
       "      <td>3</td>\n",
       "      <td>10.0</td>\n",
       "      <td>4.0</td>\n",
       "      <td>3.0</td>\n",
       "      <td>2.0</td>\n",
       "      <td>95.2</td>\n",
       "    </tr>\n",
       "    <tr>\n",
       "      <th>3</th>\n",
       "      <td>NaN</td>\n",
       "      <td>University of Cambridge</td>\n",
       "      <td>United Kingdom</td>\n",
       "      <td>1</td>\n",
       "      <td>3.0</td>\n",
       "      <td>26.0</td>\n",
       "      <td>4.0</td>\n",
       "      <td>14.0</td>\n",
       "      <td>94.1</td>\n",
       "    </tr>\n",
       "    <tr>\n",
       "      <th>4</th>\n",
       "      <td>NaN</td>\n",
       "      <td>University of Oxford</td>\n",
       "      <td>United Kingdom</td>\n",
       "      <td>2</td>\n",
       "      <td>7.0</td>\n",
       "      <td>28.0</td>\n",
       "      <td>9.0</td>\n",
       "      <td>6.0</td>\n",
       "      <td>93.3</td>\n",
       "    </tr>\n",
       "  </tbody>\n",
       "</table>\n",
       "</div>"
      ],
      "text/plain": [
       "   World Rank                            Institution        Location  \\\n",
       "0         NaN                     Harvard University             USA   \n",
       "1         NaN  Massachusetts Institute of Technology             USA   \n",
       "2         NaN                    Stanford University             USA   \n",
       "3         NaN                University of Cambridge  United Kingdom   \n",
       "4         NaN                   University of Oxford  United Kingdom   \n",
       "\n",
       "   National Rank  Education Rank  Employability Rank  Faculty Rank  \\\n",
       "0              1             1.0                 1.0           1.0   \n",
       "1              2             4.0                12.0           2.0   \n",
       "2              3            10.0                 4.0           3.0   \n",
       "3              1             3.0                26.0           4.0   \n",
       "4              2             7.0                28.0           9.0   \n",
       "\n",
       "   Research Rank  Score  \n",
       "0            1.0  100.0  \n",
       "1           12.0   96.8  \n",
       "2            2.0   95.2  \n",
       "3           14.0   94.1  \n",
       "4            6.0   93.3  "
      ]
     },
     "execution_count": 18,
     "metadata": {},
     "output_type": "execute_result"
    }
   ],
   "source": [
    "# List of columns to convert\n",
    "numeric_cols = [\n",
    "    'World Rank',\n",
    "    'National Rank',\n",
    "    'Education Rank',\n",
    "    'Employability Rank',\n",
    "    'Faculty Rank',\n",
    "    'Research Rank',\n",
    "    'Score'\n",
    "]\n",
    "\n",
    "# Convert each column to numeric\n",
    "for col in numeric_cols:\n",
    "    df[col] = pd.to_numeric(df[col], errors='coerce')\n",
    "\n",
    "# Confirm data types and preview cleaned data\n",
    "print(df.dtypes)\n",
    "df.head()\n"
   ]
  },
  {
   "cell_type": "code",
   "execution_count": 19,
   "id": "c2d95f94",
   "metadata": {},
   "outputs": [
    {
     "name": "stdout",
     "output_type": "stream",
     "text": [
      "✅ File saved as 'cwur_2024_university_rankings.csv'\n"
     ]
    }
   ],
   "source": [
    "# Save the cleaned CWUR 2024 university rankings\n",
    "df.to_csv(\"cwur_2024_university_rankings.csv\", index=False)\n",
    "print(\"✅ File saved as 'cwur_2024_university_rankings.csv'\")\n"
   ]
  },
  {
   "cell_type": "markdown",
   "id": "73aa6bce",
   "metadata": {},
   "source": [
    "[📄 View Reflection PDF](Python%20Exam%20files/997975732_BUSINFO703_Reflection.pdf)\n"
   ]
  }
 ],
 "metadata": {
  "kernelspec": {
   "display_name": "base",
   "language": "python",
   "name": "python3"
  },
  "language_info": {
   "codemirror_mode": {
    "name": "ipython",
    "version": 3
   },
   "file_extension": ".py",
   "mimetype": "text/x-python",
   "name": "python",
   "nbconvert_exporter": "python",
   "pygments_lexer": "ipython3",
   "version": "3.12.7"
  }
 },
 "nbformat": 4,
 "nbformat_minor": 5
}
