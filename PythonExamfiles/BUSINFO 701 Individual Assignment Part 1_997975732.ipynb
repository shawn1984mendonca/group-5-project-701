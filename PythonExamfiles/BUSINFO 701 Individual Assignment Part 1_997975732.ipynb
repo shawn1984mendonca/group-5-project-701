{
 "cells": [
  {
   "attachments": {},
   "cell_type": "markdown",
   "metadata": {},
   "source": [
    "## Task 2 - 1"
   ]
  },
  {
   "cell_type": "code",
   "execution_count": 9,
   "metadata": {},
   "outputs": [
    {
     "name": "stdout",
     "output_type": "stream",
     "text": [
      "['2023-05-15', '2023-07-15', '2024-03-14', '2024-07-19', '2023-11-07', '2023-01-19', '2023-12-25', '2023-11-08', '2023-01-25', '2023-02-22', '2023-02-10']\n"
     ]
    }
   ],
   "source": [
    "# You are given a list of some datetime strings.\n",
    "\n",
    "purchase_dates = [\n",
    "    \"May 15, 2023\", \"15-07-2023\", \"14-03-2024\", \"Jul 19, 2024\", \"2023.11.07\", \"19-01-2023\", \"Dec 25, 2023\", \"Nov 08, 2023\", \"2023.1.25\", \"23/02/22\", \"Feb 10, 2023\"\n",
    "]\n",
    "\n",
    "# Provide your code here. You are required to use both iterative and conditional control flows.\n",
    "\n",
    "\n",
    "# Output requirement: print the formatted datetime strings in a list.\n",
    "\n",
    "#Import the datetime class from the datetime module. formatted_dates = []\n",
    "#Define a list of purchase dates in various formats.\n",
    "#Create an empty list formatted_dates to store the formatted date strings.\n",
    "#Iterate over each date string in purchase_dates:\n",
    "#Check the presence of specific characters (-, /, .) to determine the format of the date string.\n",
    "#Use datetime.strptime() to parse the date string into a datetime object based on its format.\n",
    "#Convert the datetime object back to a string in the \"YYYY-MM-DD\" format using strftime().\n",
    "#Print the list of formatted dates.\n",
    "\n",
    "from datetime import datetime\n",
    "\n",
    "purchase_dates = [\n",
    "    \"May 15, 2023\", \"15-07-2023\", \"14-03-2024\", \"Jul 19, 2024\", \"2023.11.07\", \n",
    "    \"19-01-2023\", \"Dec 25, 2023\", \"Nov 08, 2023\", \"2023.1.25\", \"23/02/22\", \n",
    "    \"Feb 10, 2023\"\n",
    "]\n",
    "\n",
    "formatted_dates = []\n",
    "\n",
    "for date_str in purchase_dates:\n",
    "    # Check the format of the date string and parse accordingly\n",
    "    if '-' in date_str:  # Format like \"15-07-2023\" or \"19-01-2023\"\n",
    "        date_obj = datetime.strptime(date_str, \"%d-%m-%Y\")\n",
    "    elif '/' in date_str:  # Format like \"23/02/22\"\n",
    "        date_obj = datetime.strptime(date_str, \"%y/%m/%d\")\n",
    "    elif '.' in date_str:  # Format like \"2023.11.07\" or \"2023.1.25\"\n",
    "        date_obj = datetime.strptime(date_str, \"%Y.%m.%d\")\n",
    "    else:  # Format like \"May 15, 2023\" or \"Jul 19, 2024\"\n",
    "        date_obj = datetime.strptime(date_str, \"%b %d, %Y\")\n",
    "\n",
    "    # Append the formatted date to the list in \"YYYY-MM-DD\" format\n",
    "    formatted_dates.append(date_obj.strftime(\"%Y-%m-%d\"))\n",
    "\n",
    "# Print the formatted datetime strings\n",
    "print(formatted_dates)\n",
    "\n"
   ]
  },
  {
   "cell_type": "markdown",
   "metadata": {},
   "source": [
    "Rationale Task 2-1\n",
    "The handling and standardization of date formats in Python is aptly illustrated by this code. The code guarantees that date data is consistent and prepared for use in applications that demand consistent date representation by utilizing the datetime module for parsing and formatting and conditional logic to identify formats. This method is essential for data processing activities where correct analysis and reporting depend on date consistency."
   ]
  },
  {
   "attachments": {},
   "cell_type": "markdown",
   "metadata": {},
   "source": [
    "## Task 2 - 2\n",
    "\n",
    "##### (1)"
   ]
  },
  {
   "cell_type": "code",
   "execution_count": 10,
   "metadata": {},
   "outputs": [
    {
     "name": "stdout",
     "output_type": "stream",
     "text": [
      "[('John', 'Smith'), ('Emily', 'Johnson'), ('Michael', 'Brown'), ('Sarah', 'Davis'), ('David', 'Miller'), ('Linda', 'Wilson'), ('James', 'Moore'), ('Jessica', 'Taylor'), ('Robert', 'Anderson'), ('Mary', 'Thomas'), ('Alice', 'Lee')]\n"
     ]
    }
   ],
   "source": [
    "# You are given a list of some full names.\n",
    "\n",
    "fullnames =  [\"Smith,John\", \"Johnson,Emily\", \"Brown,Michael\", \"Davis,Sarah\", \"Miller,David\", \"Wilson,Linda\", \"Moore,James\", \"Taylor,Jessica\", \"Anderson,Robert\", \"Thomas,Mary\", \"Lee,Alice\"]\n",
    "\n",
    "# Provide your code here.\n",
    "\n",
    "\n",
    "# Output requirement: store first and last names in suitable data structures.\n",
    "\n",
    "#Define a list fullnames containing names in the format \"LastName,FirstName\".\n",
    "#Create an empty list name_tuples to store the tuples of first and last names.\n",
    "#Iterate over each fullname in the fullnames list:\n",
    "#Split the fullname string by the comma using split(','), which gives us the last name and first name.\n",
    "#Store the first name and last name in a tuple and append it to the name_tuples list.\n",
    "#Print the list of tuples, which contains the first and last names.\n",
    "\n",
    "fullnames = [\n",
    "    \"Smith,John\", \"Johnson,Emily\", \"Brown,Michael\", \"Davis,Sarah\", \n",
    "    \"Miller,David\", \"Wilson,Linda\", \"Moore,James\", \"Taylor,Jessica\", \n",
    "    \"Anderson,Robert\", \"Thomas,Mary\", \"Lee,Alice\"\n",
    "]\n",
    "\n",
    "# List to store tuples of (first_name, last_name)\n",
    "name_tuples = []\n",
    "\n",
    "for fullname in fullnames:\n",
    "    # Split the fullname by comma\n",
    "    last_name, first_name = fullname.split(',')\n",
    "    # Append the tuple (first_name, last_name) to the list\n",
    "    name_tuples.append((first_name, last_name))\n",
    "\n",
    "# Print the list of tuples\n",
    "print(name_tuples)"
   ]
  },
  {
   "cell_type": "markdown",
   "metadata": {},
   "source": [
    "##### (2)\n",
    "\n",
    "[Write your rationale for Task 2-2 (2) here]"
   ]
  },
  {
   "cell_type": "markdown",
   "metadata": {},
   "source": [
    "Rationale Task 2-2\n",
    "This code aptly illustrates Python's handling and manipulation of string data.  The code accomplishes its objective of arranging the data in a more comprehensible style by iterating through the list of full names using a loop and separating the names using the split() method.  The decision to use tuples for storing is effective and fits in nicely with the requirement to maintain related data in one place.  Overall, this method establishes the foundation for additional data processing or analysis and is useful in situations where names must be processed one at a time."
   ]
  },
  {
   "attachments": {},
   "cell_type": "markdown",
   "metadata": {},
   "source": [
    "## Task 2 - 3\n",
    "\n",
    "##### (1)"
   ]
  },
  {
   "cell_type": "code",
   "execution_count": 11,
   "metadata": {},
   "outputs": [
    {
     "name": "stdout",
     "output_type": "stream",
     "text": [
      "[{'first_name': 'John', 'last_name': 'Smith', 'purchase_date': '2023-05-15'}, {'first_name': 'Emily', 'last_name': 'Johnson', 'purchase_date': '2023-07-15'}, {'first_name': 'Michael', 'last_name': 'Brown', 'purchase_date': '2024-03-14'}, {'first_name': 'Sarah', 'last_name': 'Davis', 'purchase_date': '2024-07-19'}, {'first_name': 'David', 'last_name': 'Miller', 'purchase_date': '2023-11-07'}, {'first_name': 'Linda', 'last_name': 'Wilson', 'purchase_date': '2023-01-19'}, {'first_name': 'James', 'last_name': 'Moore', 'purchase_date': '2023-12-25'}, {'first_name': 'Jessica', 'last_name': 'Taylor', 'purchase_date': '2023-11-08'}, {'first_name': 'Robert', 'last_name': 'Anderson', 'purchase_date': '2023-01-25'}, {'first_name': 'Mary', 'last_name': 'Thomas', 'purchase_date': '2023-02-22'}, {'first_name': 'Alice', 'last_name': 'Lee', 'purchase_date': '2023-02-10'}]\n"
     ]
    }
   ],
   "source": [
    "# Provide your code here. Combine your outputs in Task 2-1 and Task 2-2 (1) into a single data structure (a nested structure)\n",
    "\n",
    "\n",
    "# Output requirement: your final data structure can be used to easily identify each individual along with their corresponding purchase date.\n",
    "\n",
    "#Formatting Purchase Dates: First format the purchase dates as done in the previous task, storing them in the formatted_dates list.\n",
    "#Separating Names: Separate the full names into first and last names, storing them in the name_tuples list.\n",
    "#Combining Data: Create an empty list combined_data to store the final nested structure. We iterate through the indices of name_tuples and create a dictionary for each individual, including their first name, last name, and corresponding purchase date. If there are more names than purchase dates, we set the purchase date to None.\n",
    "#Output: Print the combined_data, which is a list of dictionaries, each representing an individual along with their purchase date.\n",
    "\n",
    "from datetime import datetime\n",
    "\n",
    "# List of purchase dates\n",
    "purchase_dates = [\n",
    "    \"May 15, 2023\", \"15-07-2023\", \"14-03-2024\", \"Jul 19, 2024\", \n",
    "    \"2023.11.07\", \"19-01-2023\", \"Dec 25, 2023\", \"Nov 08, 2023\", \n",
    "    \"2023.1.25\", \"23/02/22\", \"Feb 10, 2023\"\n",
    "]\n",
    "\n",
    "# List of full names\n",
    "fullnames = [\n",
    "    \"Smith,John\", \"Johnson,Emily\", \"Brown,Michael\", \"Davis,Sarah\", \n",
    "    \"Miller,David\", \"Wilson,Linda\", \"Moore,James\", \"Taylor,Jessica\", \n",
    "    \"Anderson,Robert\", \"Thomas,Mary\", \"Lee,Alice\"\n",
    "]\n",
    "\n",
    "# Step 1: Format purchase dates\n",
    "formatted_dates = []\n",
    "for date_str in purchase_dates:\n",
    "    if '-' in date_str:\n",
    "        date_obj = datetime.strptime(date_str, \"%d-%m-%Y\")\n",
    "    elif '/' in date_str:\n",
    "        date_obj = datetime.strptime(date_str, \"%y/%m/%d\")\n",
    "    elif '.' in date_str:\n",
    "        date_obj = datetime.strptime(date_str, \"%Y.%m.%d\")\n",
    "    else:\n",
    "        date_obj = datetime.strptime(date_str, \"%b %d, %Y\")\n",
    "    \n",
    "    formatted_dates.append(date_obj.strftime(\"%Y-%m-%d\"))\n",
    "\n",
    "# Step 2: Separate first and last names\n",
    "name_tuples = []\n",
    "for fullname in fullnames:\n",
    "    last_name, first_name = fullname.split(',')\n",
    "    name_tuples.append((first_name, last_name))\n",
    "\n",
    "# Step 3: Combine into a nested structure\n",
    "combined_data = []\n",
    "for i in range(len(name_tuples)):\n",
    "    individual = {\n",
    "        \"first_name\": name_tuples[i][0],\n",
    "        \"last_name\": name_tuples[i][1],\n",
    "        \"purchase_date\": formatted_dates[i] if i < len(formatted_dates) else None\n",
    "    }\n",
    "    combined_data.append(individual)\n",
    "\n",
    "# Print the final nested data structure\n",
    "print(combined_data)\n",
    "\n"
   ]
  },
  {
   "cell_type": "markdown",
   "metadata": {},
   "source": [
    "##### (2)\n",
    "\n",
    "[Write your rationale for Task 2-3 (2) here]"
   ]
  },
  {
   "cell_type": "markdown",
   "metadata": {},
   "source": [
    "Rationale Task 2-3\n",
    "This code aptly illustrates Python data processing and organization. The method accomplishes its objective of generating a structured dataset by fusing the datetime module's date handling capabilities with simple string manipulation for name separation. Lists and dictionaries make it simple to retrieve and manipulate the data, which makes it appropriate for additional reporting or analysis. All things considered, this method works well in situations where distinct records must be handled and kept in a standardized manner."
   ]
  }
 ],
 "metadata": {
  "kernelspec": {
   "display_name": "base",
   "language": "python",
   "name": "python3"
  },
  "language_info": {
   "codemirror_mode": {
    "name": "ipython",
    "version": 3
   },
   "file_extension": ".py",
   "mimetype": "text/x-python",
   "name": "python",
   "nbconvert_exporter": "python",
   "pygments_lexer": "ipython3",
   "version": "3.12.7"
  },
  "orig_nbformat": 4
 },
 "nbformat": 4,
 "nbformat_minor": 2
}
