{
 "cells": [
  {
   "cell_type": "markdown",
   "id": "cb05b49f",
   "metadata": {},
   "source": [
    "### Question 1"
   ]
  },
  {
   "cell_type": "code",
   "execution_count": 26,
   "id": "fe283478",
   "metadata": {},
   "outputs": [
    {
     "name": "stdout",
     "output_type": "stream",
     "text": [
      "<class 'pandas.core.frame.DataFrame'>\n",
      "RangeIndex: 418 entries, 0 to 417\n",
      "Data columns (total 15 columns):\n",
      " #   Column           Non-Null Count  Dtype \n",
      "---  ------           --------------  ----- \n",
      " 0   CustomerNo       418 non-null    int64 \n",
      " 1   ApplicationDate  418 non-null    object\n",
      " 2   LoanPurpose      418 non-null    object\n",
      " 3   Checking         418 non-null    object\n",
      " 4   Savings          418 non-null    object\n",
      " 5   MonthsCustomer   418 non-null    int64 \n",
      " 6   MonthsEmployed   418 non-null    int64 \n",
      " 7   EducationLevel   418 non-null    object\n",
      " 8   Gender           418 non-null    object\n",
      " 9   MaritalStatus    418 non-null    object\n",
      " 10  Age              418 non-null    int64 \n",
      " 11  Housing          418 non-null    object\n",
      " 12  Years            418 non-null    int64 \n",
      " 13  Job              418 non-null    object\n",
      " 14  CreditRisk       418 non-null    object\n",
      "dtypes: int64(5), object(10)\n",
      "memory usage: 49.1+ KB\n",
      "None\n"
     ]
    }
   ],
   "source": [
    "import pandas as pd\n",
    "\n",
    "# Use a raw string for the file path to handle backslashes and spaces\n",
    "file_path = r\"C:\\Users\\shawn\\OneDrive - The University of Auckland\\Python Exam files\\bank_datset.txt\"\n",
    "\n",
    "# Try reading the file\n",
    "bank_loans = pd.read_csv(file_path, skiprows=23)\n",
    "\n",
    "# Check if it worked\n",
    "print(bank_loans.info())\n"
   ]
  },
  {
   "cell_type": "code",
   "execution_count": 27,
   "id": "f8ec9a09",
   "metadata": {},
   "outputs": [
    {
     "name": "stdout",
     "output_type": "stream",
     "text": [
      "Total number of loan applications: 418\n",
      "Total number of columns: 15\n",
      "\n",
      "Column Data Types:\n",
      "CustomerNo          int64\n",
      "ApplicationDate    object\n",
      "LoanPurpose        object\n",
      "Checking           object\n",
      "Savings            object\n",
      "MonthsCustomer      int64\n",
      "MonthsEmployed      int64\n",
      "EducationLevel     object\n",
      "Gender             object\n",
      "MaritalStatus      object\n",
      "Age                 int64\n",
      "Housing            object\n",
      "Years               int64\n",
      "Job                object\n",
      "CreditRisk         object\n",
      "dtype: object\n",
      "\n",
      "Columns containing integer values: ['CustomerNo', 'MonthsCustomer', 'MonthsEmployed', 'Age', 'Years']\n",
      "\n",
      "Columns containing string/text values: ['ApplicationDate', 'LoanPurpose', 'Checking', 'Savings', 'EducationLevel', 'Gender', 'MaritalStatus', 'Housing', 'Job', 'CreditRisk']\n"
     ]
    }
   ],
   "source": [
    "#  Use appropriate Python command(s) to inspect bank_loans \n",
    "\n",
    "# Q1.1: How many loan applications are there in total?\n",
    "total_applications = len(bank_loans)\n",
    "print(\"Total number of loan applications:\", total_applications)\n",
    "\n",
    "# Q1.2: How many columns are there in total?\n",
    "total_columns = bank_loans.shape[1]\n",
    "print(\"Total number of columns:\", total_columns)\n",
    "\n",
    "# Inspect column data types\n",
    "print(\"\\nColumn Data Types:\")\n",
    "print(bank_loans.dtypes)\n",
    "\n",
    "# Identify columns with integer values\n",
    "int_columns = bank_loans.select_dtypes(include='int64').columns.tolist()\n",
    "print(\"\\nColumns containing integer values:\", int_columns)\n",
    "\n",
    "# Identify columns with string/text values\n",
    "string_columns = bank_loans.select_dtypes(include='object').columns.tolist()\n",
    "print(\"\\nColumns containing string/text values:\", string_columns)"
   ]
  },
  {
   "cell_type": "markdown",
   "id": "7a873131",
   "metadata": {},
   "source": [
    "#### **Question 1** Answers\n",
    "\n",
    "1. **How many loan applications are there in total?**  \n",
    "   There are **418** loan applications in total.\n",
    "\n",
    "2. **How many columns are there in total? Which column(s) contain integer values? Which column(s) contain string/text values?**  \n",
    "   There are **15** columns in total.\n",
    "   The following columns contain integer values:  \n",
    "   - `CustomerNo`  \n",
    "   - `MonthsCustomer`  \n",
    "   - `MonthsEmployed`  \n",
    "   - `Age`  \n",
    "   - `Years`\n",
    "   \n",
    "   The following columns contain string/text values:  \n",
    "   - `ApplicationDate`  \n",
    "   - `LoanPurpose`  \n",
    "   - `Checking`  \n",
    "   - `Savings`  \n",
    "   - `EducationLevel`  \n",
    "   - `Gender`  \n",
    "   - `MaritalStatus`  \n",
    "   - `Housing`  \n",
    "   - `Job`  \n",
    "   - `CreditRisk`"
   ]
  },
  {
   "cell_type": "markdown",
   "id": "8ec11f3d",
   "metadata": {},
   "source": [
    "### Question 2"
   ]
  },
  {
   "cell_type": "code",
   "execution_count": 28,
   "id": "3c5b1301",
   "metadata": {},
   "outputs": [],
   "source": [
    "# Add a new column called TotalBalance\n",
    "\n",
    "# Use cleaned temporary values to calculate balance\n",
    "checking_values = bank_loans['Checking'].replace(r'[\\$,]', '', regex=True).astype(float)\n",
    "savings_values = bank_loans['Savings'].replace(r'[\\$,]', '', regex=True).astype(float)\n",
    "\n",
    "bank_loans['TotalBalance'] = checking_values + savings_values\n"
   ]
  },
  {
   "cell_type": "code",
   "execution_count": 29,
   "id": "86c21984",
   "metadata": {},
   "outputs": [
    {
     "name": "stdout",
     "output_type": "stream",
     "text": [
      "Top 15 customers with the lowest TotalBalance:\n",
      "    CustomerNo  TotalBalance\n",
      "0            6           0.0\n",
      "1           26           0.0\n",
      "2           30           0.0\n",
      "3           59           0.0\n",
      "4           74           0.0\n",
      "5          134           0.0\n",
      "6          138           0.0\n",
      "7          195           0.0\n",
      "8          286           0.0\n",
      "9          291           0.0\n",
      "10         411           0.0\n",
      "11         418           0.0\n",
      "12         320         102.0\n",
      "13          90         104.0\n",
      "14         139         104.0\n"
     ]
    }
   ],
   "source": [
    "# List the customer information of the top 15 customers who have the lowest total balances\n",
    "\n",
    "# Sort by TotalBalance ascending, then by CustomerNo ascending\n",
    "lowest_balances = bank_loans.sort_values(by=['TotalBalance', 'CustomerNo']).reset_index(drop=True)\n",
    "\n",
    "# Display top 15 customers with lowest total balances\n",
    "print(\"Top 15 customers with the lowest TotalBalance:\")\n",
    "print(lowest_balances[['CustomerNo', 'TotalBalance']].head(15))"
   ]
  },
  {
   "cell_type": "code",
   "execution_count": 30,
   "id": "986eae60",
   "metadata": {},
   "outputs": [
    {
     "name": "stdout",
     "output_type": "stream",
     "text": [
      "\n",
      "Customer number for the fifth observation: 74\n",
      "Difference between lowest and 15th-lowest total balances: 104.0\n"
     ]
    }
   ],
   "source": [
    "# Q2.1: Get customer number for the fifth observation\n",
    "fifth_cust_no = lowest_balances.loc[4, 'CustomerNo']\n",
    "print(\"\\nCustomer number for the fifth observation:\", fifth_cust_no)\n",
    "\n",
    "# Q2.2: Difference between lowest and 15th lowest TotalBalance\n",
    "min_balance = lowest_balances.loc[0, 'TotalBalance']\n",
    "fifteenth_balance = lowest_balances.loc[14, 'TotalBalance']\n",
    "balance_difference = fifteenth_balance - min_balance\n",
    "print(\"Difference between lowest and 15th-lowest total balances:\", balance_difference)"
   ]
  },
  {
   "cell_type": "markdown",
   "id": "c4c5cf2d",
   "metadata": {},
   "source": [
    "#### **Question 2** Answers\n",
    "\n",
    "1. **What is the customer number for the fifth observation?**  \n",
    "    The customer number for the fifth observation is **74**.\n",
    "\n",
    "2. **What is the value difference between the lowest and fifteenth-lowest total balances?**  \n",
    "The difference between the lowest and 15th-lowest total balances is **104.0**."
   ]
  },
  {
   "cell_type": "markdown",
   "id": "1e0c1909",
   "metadata": {},
   "source": [
    "### Question 3"
   ]
  },
  {
   "cell_type": "code",
   "execution_count": 31,
   "id": "60416bc2",
   "metadata": {},
   "outputs": [],
   "source": [
    "# Create a new column called ApplicationMonth\n",
    "\n",
    "# Convert ApplicationDate to datetime format \n",
    "bank_loans['ApplicationDate'] = pd.to_datetime(bank_loans['ApplicationDate'], format=\"%d/%m/%y\")\n",
    "\n",
    "# Create a new column showing the full month name\n",
    "bank_loans['ApplicationMonth'] = bank_loans['ApplicationDate'].dt.strftime(\"%B\")"
   ]
  },
  {
   "cell_type": "code",
   "execution_count": 32,
   "id": "902acfc3",
   "metadata": {},
   "outputs": [
    {
     "name": "stdout",
     "output_type": "stream",
     "text": [
      "Number of applications in each month:\n",
      " ApplicationMonth\n",
      "April        43\n",
      "August       37\n",
      "December     38\n",
      "February     31\n",
      "January      34\n",
      "July         33\n",
      "June         32\n",
      "March        43\n",
      "May          24\n",
      "November     42\n",
      "October      30\n",
      "September    31\n",
      "Name: count, dtype: int64\n"
     ]
    }
   ],
   "source": [
    "# Determine the number of applications in each month\n",
    "monthly_application_counts = bank_loans['ApplicationMonth'].value_counts().sort_index()\n",
    "print(\"Number of applications in each month:\\n\", monthly_application_counts)"
   ]
  },
  {
   "cell_type": "code",
   "execution_count": 33,
   "id": "bb0234e5",
   "metadata": {},
   "outputs": [
    {
     "name": "stdout",
     "output_type": "stream",
     "text": [
      "\n",
      "Number of applications for each loan purpose in each month:\n",
      " ApplicationMonth  LoanPurpose    \n",
      "April             Business            4\n",
      "                  Education           2\n",
      "                  Furniture          11\n",
      "                  New Car            11\n",
      "                  Repairs             2\n",
      "                                     ..\n",
      "September         New Car            10\n",
      "                  Other               1\n",
      "                  Retraining          1\n",
      "                  Small Appliance     5\n",
      "                  Used Car            3\n",
      "Length: 85, dtype: int64\n"
     ]
    }
   ],
   "source": [
    "# Determine the number of applications for each loan purpose in each month\n",
    "monthly_purpose_counts = bank_loans.groupby(['ApplicationMonth', 'LoanPurpose']).size()\n",
    "print(\"\\nNumber of applications for each loan purpose in each month:\\n\", monthly_purpose_counts)"
   ]
  },
  {
   "cell_type": "code",
   "execution_count": 34,
   "id": "9b2b8de4",
   "metadata": {},
   "outputs": [
    {
     "name": "stdout",
     "output_type": "stream",
     "text": [
      "\n",
      "Number of different loan purposes in each month:\n",
      " ApplicationMonth\n",
      "April        7\n",
      "August       8\n",
      "December     8\n",
      "February     7\n",
      "January      8\n",
      "July         6\n",
      "June         7\n",
      "March        7\n",
      "May          5\n",
      "November     6\n",
      "October      8\n",
      "September    8\n",
      "Name: LoanPurpose, dtype: int64\n"
     ]
    }
   ],
   "source": [
    "# Determine the number of different loan purposes in each month\n",
    "unique_purposes_per_month = bank_loans.groupby('ApplicationMonth')['LoanPurpose'].nunique()\n",
    "print(\"\\nNumber of different loan purposes in each month:\\n\", unique_purposes_per_month)"
   ]
  },
  {
   "cell_type": "markdown",
   "id": "efa273d1",
   "metadata": {},
   "source": [
    "### Question 4"
   ]
  },
  {
   "cell_type": "code",
   "execution_count": 35,
   "id": "ac003ec2",
   "metadata": {},
   "outputs": [],
   "source": [
    "# Create a function called check_cat_censored\n",
    "\n",
    "# Define censored keywords as a list\n",
    "censored_categories = ['car', 'appliance']\n",
    "\n",
    "# Function to check if a loan purpose belongs to a censored category\n",
    "def check_cat_censored(loan_purpose):\n",
    "    for keyword in censored_categories:\n",
    "        if keyword.lower() in str(loan_purpose).lower():\n",
    "            return True\n",
    "    return False\n"
   ]
  },
  {
   "cell_type": "code",
   "execution_count": 36,
   "id": "47bc3624",
   "metadata": {},
   "outputs": [],
   "source": [
    "# Create a new column called requires_censored\n",
    "bank_loans['requires_censored'] = bank_loans['LoanPurpose'].apply(check_cat_censored)"
   ]
  },
  {
   "cell_type": "code",
   "execution_count": 37,
   "id": "1a337f88",
   "metadata": {},
   "outputs": [
    {
     "name": "stdout",
     "output_type": "stream",
     "text": [
      "Customers with censored loans and 3+ years with the bank:\n",
      "    CustomerNo      LoanPurpose  MonthsCustomer  requires_censored\n",
      "11          12  Small Appliance              37               True\n",
      "30          31         Used Car              49               True\n",
      "31          32  Small Appliance              37               True\n",
      "41          42  Small Appliance              49               True\n",
      "45          46  Small Appliance              37               True\n"
     ]
    }
   ],
   "source": [
    "# Identify customers that satisfy the two conditions at the same time\n",
    "flagged_customers = bank_loans[(bank_loans['requires_censored']) & (bank_loans['MonthsCustomer'] >= 36)]\n",
    "\n",
    "# Preview result\n",
    "print(\"Customers with censored loans and 3+ years with the bank:\")\n",
    "print(flagged_customers[['CustomerNo', 'LoanPurpose', 'MonthsCustomer', 'requires_censored']].head())"
   ]
  },
  {
   "cell_type": "markdown",
   "id": "68c09e78",
   "metadata": {},
   "source": [
    "### Question 5"
   ]
  },
  {
   "cell_type": "code",
   "execution_count": 38,
   "id": "0ee18736",
   "metadata": {},
   "outputs": [
    {
     "name": "stdout",
     "output_type": "stream",
     "text": [
      "Average Age and Years at Residence by Education Level and Job Type:\n",
      "                                    Age     Years\n",
      "EducationLevel    Job                            \n",
      "Associate Degree  Management  39.916667  3.000000\n",
      "                  Skilled     32.938776  2.673469\n",
      "                  Unemployed  25.000000  1.333333\n",
      "                  Unskilled   29.333333  2.666667\n",
      "Bachelor's Degree Management  37.312500  3.062500\n",
      "                  Skilled     32.081633  2.673469\n",
      "                  Unemployed  46.666667  3.333333\n",
      "                  Unskilled   36.500000  2.666667\n",
      "Doctorate         Management  33.500000  2.625000\n",
      "                  Skilled     35.278689  2.852459\n",
      "                  Unemployed  28.000000  4.000000\n",
      "                  Unskilled   36.333333  2.833333\n",
      "High School       Management  44.000000  2.888889\n",
      "                  Skilled     32.125000  2.729167\n",
      "                  Unemployed  53.000000  4.000000\n",
      "                  Unskilled   35.823529  3.176471\n",
      "Master's Degree   Management  38.000000  2.666667\n",
      "                  Skilled     31.593220  3.033898\n",
      "                  Unemployed  33.666667  2.333333\n",
      "                  Unskilled   38.500000  3.035714\n"
     ]
    }
   ],
   "source": [
    "# Generate a Pivot table to summarise the average age and the average number of years at current residence for different education levels and job types\n",
    "\n",
    "# Generate pivot table grouped by EducationLevel and Job\n",
    "pivot_summary = pd.pivot_table(\n",
    "    bank_loans,\n",
    "    index=['EducationLevel', 'Job'],\n",
    "    values=['Age', 'Years'],\n",
    "    aggfunc='mean'\n",
    ")\n",
    "\n",
    "# Display the result\n",
    "print(\"Average Age and Years at Residence by Education Level and Job Type:\")\n",
    "print(pivot_summary)"
   ]
  },
  {
   "cell_type": "markdown",
   "id": "61c120b5",
   "metadata": {},
   "source": [
    "### Question 6"
   ]
  },
  {
   "cell_type": "code",
   "execution_count": 39,
   "id": "1aae6212",
   "metadata": {},
   "outputs": [],
   "source": [
    "# Load the XML file's data into a DataFrame named mon_info\n",
    "mon_info = pd.read_xml(\"bank_extra.xml\")\n"
   ]
  },
  {
   "cell_type": "code",
   "execution_count": 40,
   "id": "ce301fd4",
   "metadata": {},
   "outputs": [
    {
     "data": {
      "text/html": [
       "<div>\n",
       "<style scoped>\n",
       "    .dataframe tbody tr th:only-of-type {\n",
       "        vertical-align: middle;\n",
       "    }\n",
       "\n",
       "    .dataframe tbody tr th {\n",
       "        vertical-align: top;\n",
       "    }\n",
       "\n",
       "    .dataframe thead th {\n",
       "        text-align: right;\n",
       "    }\n",
       "</style>\n",
       "<table border=\"1\" class=\"dataframe\">\n",
       "  <thead>\n",
       "    <tr style=\"text-align: right;\">\n",
       "      <th></th>\n",
       "      <th>Mon</th>\n",
       "      <th>MaxAppNum</th>\n",
       "    </tr>\n",
       "  </thead>\n",
       "  <tbody>\n",
       "    <tr>\n",
       "      <th>0</th>\n",
       "      <td>Jan</td>\n",
       "      <td>10</td>\n",
       "    </tr>\n",
       "    <tr>\n",
       "      <th>1</th>\n",
       "      <td>Feb</td>\n",
       "      <td>12</td>\n",
       "    </tr>\n",
       "    <tr>\n",
       "      <th>2</th>\n",
       "      <td>Mar</td>\n",
       "      <td>12</td>\n",
       "    </tr>\n",
       "    <tr>\n",
       "      <th>3</th>\n",
       "      <td>Apr</td>\n",
       "      <td>12</td>\n",
       "    </tr>\n",
       "    <tr>\n",
       "      <th>4</th>\n",
       "      <td>May</td>\n",
       "      <td>15</td>\n",
       "    </tr>\n",
       "    <tr>\n",
       "      <th>5</th>\n",
       "      <td>Jun</td>\n",
       "      <td>15</td>\n",
       "    </tr>\n",
       "    <tr>\n",
       "      <th>6</th>\n",
       "      <td>Jul</td>\n",
       "      <td>15</td>\n",
       "    </tr>\n",
       "    <tr>\n",
       "      <th>7</th>\n",
       "      <td>Aug</td>\n",
       "      <td>15</td>\n",
       "    </tr>\n",
       "    <tr>\n",
       "      <th>8</th>\n",
       "      <td>Sep</td>\n",
       "      <td>12</td>\n",
       "    </tr>\n",
       "    <tr>\n",
       "      <th>9</th>\n",
       "      <td>Oct</td>\n",
       "      <td>12</td>\n",
       "    </tr>\n",
       "    <tr>\n",
       "      <th>10</th>\n",
       "      <td>Nov</td>\n",
       "      <td>12</td>\n",
       "    </tr>\n",
       "    <tr>\n",
       "      <th>11</th>\n",
       "      <td>Dec</td>\n",
       "      <td>10</td>\n",
       "    </tr>\n",
       "  </tbody>\n",
       "</table>\n",
       "</div>"
      ],
      "text/plain": [
       "    Mon  MaxAppNum\n",
       "0   Jan         10\n",
       "1   Feb         12\n",
       "2   Mar         12\n",
       "3   Apr         12\n",
       "4   May         15\n",
       "5   Jun         15\n",
       "6   Jul         15\n",
       "7   Aug         15\n",
       "8   Sep         12\n",
       "9   Oct         12\n",
       "10  Nov         12\n",
       "11  Dec         10"
      ]
     },
     "execution_count": 40,
     "metadata": {},
     "output_type": "execute_result"
    }
   ],
   "source": [
    "mon_info"
   ]
  },
  {
   "cell_type": "code",
   "execution_count": 41,
   "id": "e663a166",
   "metadata": {},
   "outputs": [],
   "source": [
    "# Combine bank_loans and mon_info into one single DataFrame loans\n",
    "\n",
    "from datetime import datetime\n",
    "# Convert abbreviated month names in 'Mon' to full month names to match ApplicationMonth\n",
    "mon_info['ApplicationMonth'] = mon_info['Mon'].apply(lambda x: datetime.strptime(x, \"%b\").strftime(\"%B\"))\n",
    "\n",
    "# Merge bank_loans with mon_info on 'ApplicationMonth'\n",
    "loans = pd.merge(bank_loans, mon_info[['ApplicationMonth', 'MaxAppNum']], how='left', on='ApplicationMonth')"
   ]
  },
  {
   "cell_type": "code",
   "execution_count": 42,
   "id": "acc9af9a",
   "metadata": {},
   "outputs": [
    {
     "name": "stdout",
     "output_type": "stream",
     "text": [
      "Preview of sorted_loans DataFrame:\n",
      "   CustomerNo ApplicationMonth  MaxAppNum\n",
      "0           8        September         12\n",
      "1           9        September         12\n",
      "2          25        September         12\n",
      "3          35        September         12\n",
      "4          44        September         12\n"
     ]
    }
   ],
   "source": [
    "# Sort loans by the column ApplicationMonth descendingly first and then by the customer number ascendingly. Then, save the sorted results in a new DataFrame sorted_loans.\n",
    "sorted_loans = loans.sort_values(by=['ApplicationMonth', 'CustomerNo'], ascending=[False, True]).reset_index(drop=True)\n",
    "\n",
    "# Preview sorted result\n",
    "print(\"Preview of sorted_loans DataFrame:\")\n",
    "print(sorted_loans[['CustomerNo', 'ApplicationMonth', 'MaxAppNum']].head())"
   ]
  },
  {
   "cell_type": "markdown",
   "id": "a8fb3448",
   "metadata": {},
   "source": [
    "### Question 7"
   ]
  },
  {
   "cell_type": "code",
   "execution_count": 43,
   "id": "495979b6",
   "metadata": {},
   "outputs": [],
   "source": [
    "# Load the JSON file's data into a DataFrame named loan_info\n",
    "loan_info = pd.read_json(\"bank_extra.json\")\n",
    "\n",
    "# The JSON is in wide format, so transpose and tidy it\n",
    "loan_info = loan_info.T.reset_index()\n",
    "loan_info.columns = ['LoanPurpose', 'MinDays', 'MaxDays']\n"
   ]
  },
  {
   "cell_type": "code",
   "execution_count": 44,
   "id": "a11198fb",
   "metadata": {},
   "outputs": [],
   "source": [
    "# Combine sorted_loans and loan_info into one single DataFrame loans_final\n",
    "loans_final = pd.merge(sorted_loans, loan_info, how='left', on='LoanPurpose')\n"
   ]
  },
  {
   "cell_type": "code",
   "execution_count": 45,
   "id": "86620e04",
   "metadata": {},
   "outputs": [
    {
     "name": "stdout",
     "output_type": "stream",
     "text": [
      "Preview of sorted_loans_final DataFrame:\n",
      "   CustomerNo LoanPurpose  MinDays  MaxDays\n",
      "0         425    Used Car        3       14\n",
      "1         424    Used Car        3       14\n",
      "2         423   Furniture        1        7\n",
      "3         422     New Car        3       14\n",
      "4         421   Furniture        1        7\n"
     ]
    }
   ],
   "source": [
    "# Sort loans_final by the customer number descendingly and save the sorted results in a new DataFrame sorted_loans_final\n",
    "sorted_loans_final = loans_final.sort_values(by='CustomerNo', ascending=False).reset_index(drop=True)\n",
    "\n",
    "# Preview result\n",
    "print(\"Preview of sorted_loans_final DataFrame:\")\n",
    "print(sorted_loans_final[['CustomerNo', 'LoanPurpose', 'MinDays', 'MaxDays']].head())\n"
   ]
  }
 ],
 "metadata": {
  "kernelspec": {
   "display_name": "base",
   "language": "python",
   "name": "python3"
  },
  "language_info": {
   "codemirror_mode": {
    "name": "ipython",
    "version": 3
   },
   "file_extension": ".py",
   "mimetype": "text/x-python",
   "name": "python",
   "nbconvert_exporter": "python",
   "pygments_lexer": "ipython3",
   "version": "3.12.7"
  }
 },
 "nbformat": 4,
 "nbformat_minor": 5
}
